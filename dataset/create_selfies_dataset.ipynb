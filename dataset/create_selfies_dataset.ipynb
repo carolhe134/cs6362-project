{
 "cells": [
  {
   "cell_type": "code",
   "execution_count": 1,
   "metadata": {},
   "outputs": [],
   "source": [
    "import pandas as pd\n",
    "import selfies"
   ]
  },
  {
   "cell_type": "code",
   "execution_count": 2,
   "metadata": {},
   "outputs": [],
   "source": [
    "# Load SMILES dataset\n",
    "df = pd.read_csv('np_dataset_smiles_only.csv').drop(columns=['Unnamed: 0'])"
   ]
  },
  {
   "cell_type": "code",
   "execution_count": 3,
   "metadata": {},
   "outputs": [
    {
     "data": {
      "text/html": [
       "<div>\n",
       "<style scoped>\n",
       "    .dataframe tbody tr th:only-of-type {\n",
       "        vertical-align: middle;\n",
       "    }\n",
       "\n",
       "    .dataframe tbody tr th {\n",
       "        vertical-align: top;\n",
       "    }\n",
       "\n",
       "    .dataframe thead th {\n",
       "        text-align: right;\n",
       "    }\n",
       "</style>\n",
       "<table border=\"1\" class=\"dataframe\">\n",
       "  <thead>\n",
       "    <tr style=\"text-align: right;\">\n",
       "      <th></th>\n",
       "      <th>SMILES</th>\n",
       "    </tr>\n",
       "  </thead>\n",
       "  <tbody>\n",
       "    <tr>\n",
       "      <th>0</th>\n",
       "      <td>CC[C@H](C)[C@@H](CO)NC(=O)/C=C/[C@@](C)(OC)[C@...</td>\n",
       "    </tr>\n",
       "    <tr>\n",
       "      <th>1</th>\n",
       "      <td>C=C(C)[C@@H]1C[C@@]2(C)C(=CC1=O)CC[C@@H](OC(=O...</td>\n",
       "    </tr>\n",
       "    <tr>\n",
       "      <th>2</th>\n",
       "      <td>COC1C(C(OC2OC(C(=O)O)=CC(O)C2O)C(N)=O)OC(n2ccc...</td>\n",
       "    </tr>\n",
       "    <tr>\n",
       "      <th>3</th>\n",
       "      <td>O=Nc1[nH]c(O)c(-c2ccccc2)c1-c1ccc(O)c([N+](=O)...</td>\n",
       "    </tr>\n",
       "    <tr>\n",
       "      <th>4</th>\n",
       "      <td>C[C@@]1(CO)CCC[C@]2(C)[C@H]3C[C@@]45OC4[C@H](O...</td>\n",
       "    </tr>\n",
       "    <tr>\n",
       "      <th>...</th>\n",
       "      <td>...</td>\n",
       "    </tr>\n",
       "    <tr>\n",
       "      <th>404316</th>\n",
       "      <td>O=C(NCCN=C(O)C(F)(F)C(F)(F)C(F)(F)F)C(F)(F)C(F...</td>\n",
       "    </tr>\n",
       "    <tr>\n",
       "      <th>404317</th>\n",
       "      <td>C=CC1=C(C)c2cc3[nH]c(c(C=CC(=O)O)c3C)c3c4nc(cc...</td>\n",
       "    </tr>\n",
       "    <tr>\n",
       "      <th>404318</th>\n",
       "      <td>CO[C]1[CH][C]([C]2[OH+][C]3[CH][C](O)[CH][C](O...</td>\n",
       "    </tr>\n",
       "    <tr>\n",
       "      <th>404319</th>\n",
       "      <td>CN(C)c1ccc(O)c2c1CC1CC3C(N(C)C)C(=O)C(C(N)=O)C...</td>\n",
       "    </tr>\n",
       "    <tr>\n",
       "      <th>404320</th>\n",
       "      <td>COCCCC(CC1CCC2(C1)CC1(C)C(CC2O)C(O)CC2C3CCC4C(...</td>\n",
       "    </tr>\n",
       "  </tbody>\n",
       "</table>\n",
       "<p>404321 rows × 1 columns</p>\n",
       "</div>"
      ],
      "text/plain": [
       "                                                   SMILES\n",
       "0       CC[C@H](C)[C@@H](CO)NC(=O)/C=C/[C@@](C)(OC)[C@...\n",
       "1       C=C(C)[C@@H]1C[C@@]2(C)C(=CC1=O)CC[C@@H](OC(=O...\n",
       "2       COC1C(C(OC2OC(C(=O)O)=CC(O)C2O)C(N)=O)OC(n2ccc...\n",
       "3       O=Nc1[nH]c(O)c(-c2ccccc2)c1-c1ccc(O)c([N+](=O)...\n",
       "4       C[C@@]1(CO)CCC[C@]2(C)[C@H]3C[C@@]45OC4[C@H](O...\n",
       "...                                                   ...\n",
       "404316  O=C(NCCN=C(O)C(F)(F)C(F)(F)C(F)(F)F)C(F)(F)C(F...\n",
       "404317  C=CC1=C(C)c2cc3[nH]c(c(C=CC(=O)O)c3C)c3c4nc(cc...\n",
       "404318  CO[C]1[CH][C]([C]2[OH+][C]3[CH][C](O)[CH][C](O...\n",
       "404319  CN(C)c1ccc(O)c2c1CC1CC3C(N(C)C)C(=O)C(C(N)=O)C...\n",
       "404320  COCCCC(CC1CCC2(C1)CC1(C)C(CC2O)C(O)CC2C3CCC4C(...\n",
       "\n",
       "[404321 rows x 1 columns]"
      ]
     },
     "execution_count": 3,
     "metadata": {},
     "output_type": "execute_result"
    }
   ],
   "source": [
    "df"
   ]
  },
  {
   "cell_type": "code",
   "execution_count": 4,
   "metadata": {},
   "outputs": [],
   "source": [
    "# Convert SMILES to SELFIES\n",
    "def smiles_to_selfies(smiles):\n",
    "    try:\n",
    "        selfies_str = selfies.encoder(smiles)\n",
    "        return selfies_str\n",
    "    except:\n",
    "        return None\n",
    "    \n",
    "# Display rows whose SELFIES value is None\n",
    "def display_na_selfies(df):\n",
    "    none_selfies_rows = df[df['SELFIES'].isna()]\n",
    "    print(none_selfies_rows)"
   ]
  },
  {
   "cell_type": "code",
   "execution_count": 5,
   "metadata": {},
   "outputs": [],
   "source": [
    "# Apply the conversion function to create a new 'SELFIES' column\n",
    "df['SELFIES'] = df['SMILES'].apply(smiles_to_selfies)"
   ]
  },
  {
   "cell_type": "code",
   "execution_count": 6,
   "metadata": {},
   "outputs": [
    {
     "data": {
      "text/html": [
       "<div>\n",
       "<style scoped>\n",
       "    .dataframe tbody tr th:only-of-type {\n",
       "        vertical-align: middle;\n",
       "    }\n",
       "\n",
       "    .dataframe tbody tr th {\n",
       "        vertical-align: top;\n",
       "    }\n",
       "\n",
       "    .dataframe thead th {\n",
       "        text-align: right;\n",
       "    }\n",
       "</style>\n",
       "<table border=\"1\" class=\"dataframe\">\n",
       "  <thead>\n",
       "    <tr style=\"text-align: right;\">\n",
       "      <th></th>\n",
       "      <th>SMILES</th>\n",
       "      <th>SELFIES</th>\n",
       "    </tr>\n",
       "  </thead>\n",
       "  <tbody>\n",
       "    <tr>\n",
       "      <th>0</th>\n",
       "      <td>CC[C@H](C)[C@@H](CO)NC(=O)/C=C/[C@@](C)(OC)[C@...</td>\n",
       "      <td>[C][C][C@H1][Branch1][C][C][C@@H1][Branch1][Ri...</td>\n",
       "    </tr>\n",
       "    <tr>\n",
       "      <th>1</th>\n",
       "      <td>C=C(C)[C@@H]1C[C@@]2(C)C(=CC1=O)CC[C@@H](OC(=O...</td>\n",
       "      <td>[C][=C][Branch1][C][C][C@@H1][C][C@@][Branch1]...</td>\n",
       "    </tr>\n",
       "    <tr>\n",
       "      <th>2</th>\n",
       "      <td>COC1C(C(OC2OC(C(=O)O)=CC(O)C2O)C(N)=O)OC(n2ccc...</td>\n",
       "      <td>[C][O][C][C][Branch2][Ring1][=C][C][Branch2][R...</td>\n",
       "    </tr>\n",
       "    <tr>\n",
       "      <th>3</th>\n",
       "      <td>O=Nc1[nH]c(O)c(-c2ccccc2)c1-c1ccc(O)c([N+](=O)...</td>\n",
       "      <td>[O][=N][C][NH1][C][Branch1][C][O][=C][Branch1]...</td>\n",
       "    </tr>\n",
       "    <tr>\n",
       "      <th>4</th>\n",
       "      <td>C[C@@]1(CO)CCC[C@]2(C)[C@H]3C[C@@]45OC4[C@H](O...</td>\n",
       "      <td>[C][C@@][Branch1][Ring1][C][O][C][C][C][C@][Br...</td>\n",
       "    </tr>\n",
       "    <tr>\n",
       "      <th>...</th>\n",
       "      <td>...</td>\n",
       "      <td>...</td>\n",
       "    </tr>\n",
       "    <tr>\n",
       "      <th>404316</th>\n",
       "      <td>O=C(NCCN=C(O)C(F)(F)C(F)(F)C(F)(F)F)C(F)(F)C(F...</td>\n",
       "      <td>[O][=C][Branch2][Ring1][#C][N][C][C][N][=C][Br...</td>\n",
       "    </tr>\n",
       "    <tr>\n",
       "      <th>404317</th>\n",
       "      <td>C=CC1=C(C)c2cc3[nH]c(c(C=CC(=O)O)c3C)c3c4nc(cc...</td>\n",
       "      <td>[C][=C][C][=C][Branch1][C][C][C][=C][C][NH1][C...</td>\n",
       "    </tr>\n",
       "    <tr>\n",
       "      <th>404318</th>\n",
       "      <td>CO[C]1[CH][C]([C]2[OH+][C]3[CH][C](O)[CH][C](O...</td>\n",
       "      <td>[C][O][CH0][CH1][CH0][Branch2][Branch1][Branch...</td>\n",
       "    </tr>\n",
       "    <tr>\n",
       "      <th>404319</th>\n",
       "      <td>CN(C)c1ccc(O)c2c1CC1CC3C(N(C)C)C(=O)C(C(N)=O)C...</td>\n",
       "      <td>[C][N][Branch1][C][C][C][=C][C][=C][Branch1][C...</td>\n",
       "    </tr>\n",
       "    <tr>\n",
       "      <th>404320</th>\n",
       "      <td>COCCCC(CC1CCC2(C1)CC1(C)C(CC2O)C(O)CC2C3CCC4C(...</td>\n",
       "      <td>[C][O][C][C][C][C][Branch2][=Branch1][S][C][C]...</td>\n",
       "    </tr>\n",
       "  </tbody>\n",
       "</table>\n",
       "<p>404321 rows × 2 columns</p>\n",
       "</div>"
      ],
      "text/plain": [
       "                                                   SMILES  \\\n",
       "0       CC[C@H](C)[C@@H](CO)NC(=O)/C=C/[C@@](C)(OC)[C@...   \n",
       "1       C=C(C)[C@@H]1C[C@@]2(C)C(=CC1=O)CC[C@@H](OC(=O...   \n",
       "2       COC1C(C(OC2OC(C(=O)O)=CC(O)C2O)C(N)=O)OC(n2ccc...   \n",
       "3       O=Nc1[nH]c(O)c(-c2ccccc2)c1-c1ccc(O)c([N+](=O)...   \n",
       "4       C[C@@]1(CO)CCC[C@]2(C)[C@H]3C[C@@]45OC4[C@H](O...   \n",
       "...                                                   ...   \n",
       "404316  O=C(NCCN=C(O)C(F)(F)C(F)(F)C(F)(F)F)C(F)(F)C(F...   \n",
       "404317  C=CC1=C(C)c2cc3[nH]c(c(C=CC(=O)O)c3C)c3c4nc(cc...   \n",
       "404318  CO[C]1[CH][C]([C]2[OH+][C]3[CH][C](O)[CH][C](O...   \n",
       "404319  CN(C)c1ccc(O)c2c1CC1CC3C(N(C)C)C(=O)C(C(N)=O)C...   \n",
       "404320  COCCCC(CC1CCC2(C1)CC1(C)C(CC2O)C(O)CC2C3CCC4C(...   \n",
       "\n",
       "                                                  SELFIES  \n",
       "0       [C][C][C@H1][Branch1][C][C][C@@H1][Branch1][Ri...  \n",
       "1       [C][=C][Branch1][C][C][C@@H1][C][C@@][Branch1]...  \n",
       "2       [C][O][C][C][Branch2][Ring1][=C][C][Branch2][R...  \n",
       "3       [O][=N][C][NH1][C][Branch1][C][O][=C][Branch1]...  \n",
       "4       [C][C@@][Branch1][Ring1][C][O][C][C][C][C@][Br...  \n",
       "...                                                   ...  \n",
       "404316  [O][=C][Branch2][Ring1][#C][N][C][C][N][=C][Br...  \n",
       "404317  [C][=C][C][=C][Branch1][C][C][C][=C][C][NH1][C...  \n",
       "404318  [C][O][CH0][CH1][CH0][Branch2][Branch1][Branch...  \n",
       "404319  [C][N][Branch1][C][C][C][=C][C][=C][Branch1][C...  \n",
       "404320  [C][O][C][C][C][C][Branch2][=Branch1][S][C][C]...  \n",
       "\n",
       "[404321 rows x 2 columns]"
      ]
     },
     "execution_count": 6,
     "metadata": {},
     "output_type": "execute_result"
    }
   ],
   "source": [
    "df"
   ]
  },
  {
   "cell_type": "code",
   "execution_count": 7,
   "metadata": {},
   "outputs": [
    {
     "name": "stdout",
     "output_type": "stream",
     "text": [
      "                      SMILES SELFIES\n",
      "374915      Cc1ccccc1[IH2]=O    None\n",
      "383573  Cc1cccc([IH2](O)O)c1    None\n",
      "403266    Cc1ccc([IH2]=O)cc1    None\n"
     ]
    }
   ],
   "source": [
    "display_na_selfies(df)"
   ]
  },
  {
   "cell_type": "code",
   "execution_count": 8,
   "metadata": {},
   "outputs": [],
   "source": [
    "# Drop rows whose SELFIES value is None\n",
    "df_cleaned = df.dropna(subset=['SELFIES'])"
   ]
  },
  {
   "cell_type": "code",
   "execution_count": 9,
   "metadata": {},
   "outputs": [
    {
     "data": {
      "text/html": [
       "<div>\n",
       "<style scoped>\n",
       "    .dataframe tbody tr th:only-of-type {\n",
       "        vertical-align: middle;\n",
       "    }\n",
       "\n",
       "    .dataframe tbody tr th {\n",
       "        vertical-align: top;\n",
       "    }\n",
       "\n",
       "    .dataframe thead th {\n",
       "        text-align: right;\n",
       "    }\n",
       "</style>\n",
       "<table border=\"1\" class=\"dataframe\">\n",
       "  <thead>\n",
       "    <tr style=\"text-align: right;\">\n",
       "      <th></th>\n",
       "      <th>SMILES</th>\n",
       "      <th>SELFIES</th>\n",
       "    </tr>\n",
       "  </thead>\n",
       "  <tbody>\n",
       "    <tr>\n",
       "      <th>0</th>\n",
       "      <td>CC[C@H](C)[C@@H](CO)NC(=O)/C=C/[C@@](C)(OC)[C@...</td>\n",
       "      <td>[C][C][C@H1][Branch1][C][C][C@@H1][Branch1][Ri...</td>\n",
       "    </tr>\n",
       "    <tr>\n",
       "      <th>1</th>\n",
       "      <td>C=C(C)[C@@H]1C[C@@]2(C)C(=CC1=O)CC[C@@H](OC(=O...</td>\n",
       "      <td>[C][=C][Branch1][C][C][C@@H1][C][C@@][Branch1]...</td>\n",
       "    </tr>\n",
       "    <tr>\n",
       "      <th>2</th>\n",
       "      <td>COC1C(C(OC2OC(C(=O)O)=CC(O)C2O)C(N)=O)OC(n2ccc...</td>\n",
       "      <td>[C][O][C][C][Branch2][Ring1][=C][C][Branch2][R...</td>\n",
       "    </tr>\n",
       "    <tr>\n",
       "      <th>3</th>\n",
       "      <td>O=Nc1[nH]c(O)c(-c2ccccc2)c1-c1ccc(O)c([N+](=O)...</td>\n",
       "      <td>[O][=N][C][NH1][C][Branch1][C][O][=C][Branch1]...</td>\n",
       "    </tr>\n",
       "    <tr>\n",
       "      <th>4</th>\n",
       "      <td>C[C@@]1(CO)CCC[C@]2(C)[C@H]3C[C@@]45OC4[C@H](O...</td>\n",
       "      <td>[C][C@@][Branch1][Ring1][C][O][C][C][C][C@][Br...</td>\n",
       "    </tr>\n",
       "    <tr>\n",
       "      <th>...</th>\n",
       "      <td>...</td>\n",
       "      <td>...</td>\n",
       "    </tr>\n",
       "    <tr>\n",
       "      <th>404316</th>\n",
       "      <td>O=C(NCCN=C(O)C(F)(F)C(F)(F)C(F)(F)F)C(F)(F)C(F...</td>\n",
       "      <td>[O][=C][Branch2][Ring1][#C][N][C][C][N][=C][Br...</td>\n",
       "    </tr>\n",
       "    <tr>\n",
       "      <th>404317</th>\n",
       "      <td>C=CC1=C(C)c2cc3[nH]c(c(C=CC(=O)O)c3C)c3c4nc(cc...</td>\n",
       "      <td>[C][=C][C][=C][Branch1][C][C][C][=C][C][NH1][C...</td>\n",
       "    </tr>\n",
       "    <tr>\n",
       "      <th>404318</th>\n",
       "      <td>CO[C]1[CH][C]([C]2[OH+][C]3[CH][C](O)[CH][C](O...</td>\n",
       "      <td>[C][O][CH0][CH1][CH0][Branch2][Branch1][Branch...</td>\n",
       "    </tr>\n",
       "    <tr>\n",
       "      <th>404319</th>\n",
       "      <td>CN(C)c1ccc(O)c2c1CC1CC3C(N(C)C)C(=O)C(C(N)=O)C...</td>\n",
       "      <td>[C][N][Branch1][C][C][C][=C][C][=C][Branch1][C...</td>\n",
       "    </tr>\n",
       "    <tr>\n",
       "      <th>404320</th>\n",
       "      <td>COCCCC(CC1CCC2(C1)CC1(C)C(CC2O)C(O)CC2C3CCC4C(...</td>\n",
       "      <td>[C][O][C][C][C][C][Branch2][=Branch1][S][C][C]...</td>\n",
       "    </tr>\n",
       "  </tbody>\n",
       "</table>\n",
       "<p>404318 rows × 2 columns</p>\n",
       "</div>"
      ],
      "text/plain": [
       "                                                   SMILES  \\\n",
       "0       CC[C@H](C)[C@@H](CO)NC(=O)/C=C/[C@@](C)(OC)[C@...   \n",
       "1       C=C(C)[C@@H]1C[C@@]2(C)C(=CC1=O)CC[C@@H](OC(=O...   \n",
       "2       COC1C(C(OC2OC(C(=O)O)=CC(O)C2O)C(N)=O)OC(n2ccc...   \n",
       "3       O=Nc1[nH]c(O)c(-c2ccccc2)c1-c1ccc(O)c([N+](=O)...   \n",
       "4       C[C@@]1(CO)CCC[C@]2(C)[C@H]3C[C@@]45OC4[C@H](O...   \n",
       "...                                                   ...   \n",
       "404316  O=C(NCCN=C(O)C(F)(F)C(F)(F)C(F)(F)F)C(F)(F)C(F...   \n",
       "404317  C=CC1=C(C)c2cc3[nH]c(c(C=CC(=O)O)c3C)c3c4nc(cc...   \n",
       "404318  CO[C]1[CH][C]([C]2[OH+][C]3[CH][C](O)[CH][C](O...   \n",
       "404319  CN(C)c1ccc(O)c2c1CC1CC3C(N(C)C)C(=O)C(C(N)=O)C...   \n",
       "404320  COCCCC(CC1CCC2(C1)CC1(C)C(CC2O)C(O)CC2C3CCC4C(...   \n",
       "\n",
       "                                                  SELFIES  \n",
       "0       [C][C][C@H1][Branch1][C][C][C@@H1][Branch1][Ri...  \n",
       "1       [C][=C][Branch1][C][C][C@@H1][C][C@@][Branch1]...  \n",
       "2       [C][O][C][C][Branch2][Ring1][=C][C][Branch2][R...  \n",
       "3       [O][=N][C][NH1][C][Branch1][C][O][=C][Branch1]...  \n",
       "4       [C][C@@][Branch1][Ring1][C][O][C][C][C][C@][Br...  \n",
       "...                                                   ...  \n",
       "404316  [O][=C][Branch2][Ring1][#C][N][C][C][N][=C][Br...  \n",
       "404317  [C][=C][C][=C][Branch1][C][C][C][=C][C][NH1][C...  \n",
       "404318  [C][O][CH0][CH1][CH0][Branch2][Branch1][Branch...  \n",
       "404319  [C][N][Branch1][C][C][C][=C][C][=C][Branch1][C...  \n",
       "404320  [C][O][C][C][C][C][Branch2][=Branch1][S][C][C]...  \n",
       "\n",
       "[404318 rows x 2 columns]"
      ]
     },
     "execution_count": 9,
     "metadata": {},
     "output_type": "execute_result"
    }
   ],
   "source": [
    "df_cleaned"
   ]
  },
  {
   "cell_type": "code",
   "execution_count": 10,
   "metadata": {},
   "outputs": [
    {
     "name": "stdout",
     "output_type": "stream",
     "text": [
      "Empty DataFrame\n",
      "Columns: [SMILES, SELFIES]\n",
      "Index: []\n"
     ]
    }
   ],
   "source": [
    "display_na_selfies(df_cleaned)"
   ]
  },
  {
   "cell_type": "code",
   "execution_count": 11,
   "metadata": {},
   "outputs": [],
   "source": [
    "# Save updated DataFrame with SELFIES column to csv file\n",
    "df_cleaned.to_csv('np_dataset.csv', index=False)"
   ]
  },
  {
   "cell_type": "code",
   "execution_count": null,
   "metadata": {},
   "outputs": [],
   "source": []
  }
 ],
 "metadata": {
  "kernelspec": {
   "display_name": "env",
   "language": "python",
   "name": "python3"
  },
  "language_info": {
   "codemirror_mode": {
    "name": "ipython",
    "version": 3
   },
   "file_extension": ".py",
   "mimetype": "text/x-python",
   "name": "python",
   "nbconvert_exporter": "python",
   "pygments_lexer": "ipython3",
   "version": "3.12.6"
  }
 },
 "nbformat": 4,
 "nbformat_minor": 2
}
